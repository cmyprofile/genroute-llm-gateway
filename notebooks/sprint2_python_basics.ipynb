{
 "cells": [
  {
   "cell_type": "markdown",
   "id": "973beb37-bd25-4c1d-a550-90359f268e45",
   "metadata": {
    "jp-MarkdownHeadingCollapsed": true
   },
   "source": [
    "# Let's simulate a small module structure right inside the notebook"
   ]
  },
  {
   "cell_type": "markdown",
   "id": "c2bc534e-9617-41f1-996c-5cc4f7c8fc5e",
   "metadata": {},
   "source": [
    "# 1. Define a simple function"
   ]
  },
  {
   "cell_type": "code",
   "execution_count": 1,
   "id": "3fd2f810-26d0-4024-9953-a956db751dae",
   "metadata": {},
   "outputs": [],
   "source": [
    "def greet_user(name):\n",
    "    return f\"👋 Hello, {name}! Welcome to GenRoute-LMM Gateway.\""
   ]
  },
  {
   "cell_type": "code",
   "execution_count": 3,
   "id": "d9af04bc-91c0-4ccc-9d24-e9c99c05142a",
   "metadata": {},
   "outputs": [],
   "source": [
    "# 2. Call the function"
   ]
  },
  {
   "cell_type": "code",
   "execution_count": 4,
   "id": "d0ccc26b-15cb-4abc-8364-aa0832d7d3df",
   "metadata": {},
   "outputs": [
    {
     "data": {
      "text/plain": [
       "'👋 Hello, Sarath! Welcome to GenRoute-LMM Gateway.'"
      ]
     },
     "execution_count": 4,
     "metadata": {},
     "output_type": "execute_result"
    }
   ],
   "source": [
    "greet_user(\"Sarath\")"
   ]
  },
  {
   "cell_type": "markdown",
   "id": "29325499-cf4f-4ec2-855f-d768df4e6e68",
   "metadata": {},
   "source": [
    "## ********************************************************####"
   ]
  },
  {
   "cell_type": "markdown",
   "id": "ccf29fb3-7f7d-4a57-9b0d-1de98ddf9f9e",
   "metadata": {},
   "source": [
    "##  Working with JSON"
   ]
  },
  {
   "cell_type": "code",
   "execution_count": 5,
   "id": "13147c65-8e14-4123-a122-b3b0eeab97de",
   "metadata": {},
   "outputs": [],
   "source": [
    "import json"
   ]
  },
  {
   "cell_type": "code",
   "execution_count": 6,
   "id": "a2cb30d4-2724-4fbc-9735-b79ae72fff72",
   "metadata": {},
   "outputs": [],
   "source": [
    "# Simulated JSON string\n",
    "json_str = '{\"prompt\": \"What is the capital of France?\", \"temperature\": 0.7}'"
   ]
  },
  {
   "cell_type": "code",
   "execution_count": 7,
   "id": "610d3ffa-8816-44ec-bd84-6bcce94660fc",
   "metadata": {},
   "outputs": [],
   "source": [
    "# Convert JSON string to Python dict\n",
    "prompt_config = json.loads(json_str)"
   ]
  },
  {
   "cell_type": "code",
   "execution_count": 8,
   "id": "b10b8d63-c061-4708-81d4-e23e091f2e45",
   "metadata": {},
   "outputs": [
    {
     "name": "stdout",
     "output_type": "stream",
     "text": [
      "Prompt: What is the capital of France?\n",
      "Temperature: 0.7\n"
     ]
    }
   ],
   "source": [
    "# Access values\n",
    "print(\"Prompt:\", prompt_config[\"prompt\"])\n",
    "print(\"Temperature:\", prompt_config[\"temperature\"])"
   ]
  },
  {
   "cell_type": "markdown",
   "id": "3b1ec1d8-d6f3-4b3e-90b2-ac3b4d0a1d54",
   "metadata": {
    "jp-MarkdownHeadingCollapsed": true
   },
   "source": [
    "## Working with YAML"
   ]
  },
  {
   "cell_type": "code",
   "execution_count": 9,
   "id": "4e636c8a-7976-43f8-84d7-b947901d63a6",
   "metadata": {},
   "outputs": [
    {
     "name": "stdout",
     "output_type": "stream",
     "text": [
      "Requirement already satisfied: pyyaml in d:\\softwares\\anaconda\\anaconda-installation\\lib\\site-packages (6.0.1)\n"
     ]
    }
   ],
   "source": [
    "!pip install pyyaml"
   ]
  },
  {
   "cell_type": "code",
   "execution_count": 10,
   "id": "98b29fe2-e372-45d7-98f5-a9b1e90464e1",
   "metadata": {},
   "outputs": [],
   "source": [
    "import yaml"
   ]
  },
  {
   "cell_type": "code",
   "execution_count": 11,
   "id": "4fbb82a0-d945-4f25-a240-8b6a37b6e82c",
   "metadata": {},
   "outputs": [],
   "source": [
    "# Simulated YAML\n",
    "yaml_str = \"\"\"\n",
    "prompt: What is the capital of Germany?\n",
    "temperature: 0.5\n",
    "\"\"\""
   ]
  },
  {
   "cell_type": "code",
   "execution_count": 12,
   "id": "2ec40f41-dbb1-4d4f-a523-b012242057a5",
   "metadata": {},
   "outputs": [],
   "source": [
    "# Convert YAML to Python dict\n",
    "prompt_config = yaml.safe_load(yaml_str)"
   ]
  },
  {
   "cell_type": "code",
   "execution_count": 13,
   "id": "ff8818c2-22df-422d-b167-351b5fb64712",
   "metadata": {},
   "outputs": [
    {
     "name": "stdout",
     "output_type": "stream",
     "text": [
      "Prompt: What is the capital of Germany?\n",
      "Temperature: 0.5\n"
     ]
    }
   ],
   "source": [
    "# Access values\n",
    "print(\"Prompt:\", prompt_config[\"prompt\"])\n",
    "print(\"Temperature:\", prompt_config[\"temperature\"])"
   ]
  },
  {
   "cell_type": "markdown",
   "id": "32c1a5dd-ed01-4bfb-8b4f-2ed4d74334b2",
   "metadata": {},
   "source": [
    "##  Section 1: Python Comments and Print Statements\n",
    "````\n",
    "In this section, we'll learn how to:\n",
    "- Write single-line and multi-line comments in Python.\n",
    "- Use `print()` to output information.\n",
    "- Format strings using `print()` for dynamic messages. ````"
   ]
  },
  {
   "cell_type": "markdown",
   "id": "7879348f-dca6-4161-8d0b-13f4738d694f",
   "metadata": {},
   "source": [
    "## Single-line Comments"
   ]
  },
  {
   "cell_type": "code",
   "execution_count": 14,
   "id": "428a1df7-db6d-41d7-8254-f694269a09fe",
   "metadata": {},
   "outputs": [
    {
     "name": "stdout",
     "output_type": "stream",
     "text": [
      "Hello, world!\n"
     ]
    }
   ],
   "source": [
    "# This is a single-line comment\n",
    "# You can write anything here, and Python will ignore it.\n",
    "\n",
    "print(\"Hello, world!\")  # This is an inline comment"
   ]
  },
  {
   "cell_type": "markdown",
   "id": "2a76b37c-89fc-4110-8e9a-9f3be7ba0ad0",
   "metadata": {},
   "source": [
    "## Multi-line Comments"
   ]
  },
  {
   "cell_type": "code",
   "execution_count": 15,
   "id": "d699372f-27e2-4b3c-9bd4-0e8037e43233",
   "metadata": {},
   "outputs": [
    {
     "name": "stdout",
     "output_type": "stream",
     "text": [
      "Multi-line comments help explain code blocks.\n"
     ]
    }
   ],
   "source": [
    "\"\"\"\n",
    "This is a multi-line comment or docstring.\n",
    "It is typically used to describe what a function, class, or file does.\n",
    "Python ignores these when the code runs.\n",
    "\"\"\"\n",
    "print(\"Multi-line comments help explain code blocks.\")"
   ]
  },
  {
   "cell_type": "code",
   "execution_count": null,
   "id": "7c7274e7-7eab-4e14-a2ee-96ad53973377",
   "metadata": {},
   "outputs": [],
   "source": []
  }
 ],
 "metadata": {
  "kernelspec": {
   "display_name": "Python 3 (ipykernel)",
   "language": "python",
   "name": "python3"
  },
  "language_info": {
   "codemirror_mode": {
    "name": "ipython",
    "version": 3
   },
   "file_extension": ".py",
   "mimetype": "text/x-python",
   "name": "python",
   "nbconvert_exporter": "python",
   "pygments_lexer": "ipython3",
   "version": "3.12.7"
  }
 },
 "nbformat": 4,
 "nbformat_minor": 5
}
