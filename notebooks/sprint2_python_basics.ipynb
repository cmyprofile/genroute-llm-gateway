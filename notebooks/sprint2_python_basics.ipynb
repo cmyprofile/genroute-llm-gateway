{
 "cells": [
  {
   "cell_type": "markdown",
   "id": "973beb37-bd25-4c1d-a550-90359f268e45",
   "metadata": {},
   "source": [
    "# Let's simulate a small module structure right inside the notebook"
   ]
  },
  {
   "cell_type": "markdown",
   "id": "1ee1ffac-0342-40ab-aa87-148f08d97912",
   "metadata": {
    "jp-MarkdownHeadingCollapsed": true
   },
   "source": [
    "## Functions"
   ]
  },
  {
   "cell_type": "code",
   "execution_count": 30,
   "id": "3fd2f810-26d0-4024-9953-a956db751dae",
   "metadata": {},
   "outputs": [],
   "source": [
    "## Define Simple Function\n",
    "def greet_user(name):\n",
    "    return f\"👋 Hello, {name}! Welcome to GenRoute-LMM Gateway.\""
   ]
  },
  {
   "cell_type": "code",
   "execution_count": 3,
   "id": "d9af04bc-91c0-4ccc-9d24-e9c99c05142a",
   "metadata": {},
   "outputs": [],
   "source": [
    "# 2. Call the function"
   ]
  },
  {
   "cell_type": "code",
   "execution_count": 4,
   "id": "d0ccc26b-15cb-4abc-8364-aa0832d7d3df",
   "metadata": {},
   "outputs": [
    {
     "data": {
      "text/plain": [
       "'👋 Hello, Sarath! Welcome to GenRoute-LMM Gateway.'"
      ]
     },
     "execution_count": 4,
     "metadata": {},
     "output_type": "execute_result"
    }
   ],
   "source": [
    "greet_user(\"Sarath\")"
   ]
  },
  {
   "cell_type": "markdown",
   "id": "29325499-cf4f-4ec2-855f-d768df4e6e68",
   "metadata": {},
   "source": [
    "## ********************************************************####"
   ]
  },
  {
   "cell_type": "markdown",
   "id": "ccf29fb3-7f7d-4a57-9b0d-1de98ddf9f9e",
   "metadata": {
    "jp-MarkdownHeadingCollapsed": true
   },
   "source": [
    "##  Working with JSON"
   ]
  },
  {
   "cell_type": "code",
   "execution_count": 5,
   "id": "13147c65-8e14-4123-a122-b3b0eeab97de",
   "metadata": {},
   "outputs": [],
   "source": [
    "import json"
   ]
  },
  {
   "cell_type": "code",
   "execution_count": 6,
   "id": "a2cb30d4-2724-4fbc-9735-b79ae72fff72",
   "metadata": {},
   "outputs": [],
   "source": [
    "# Simulated JSON string\n",
    "json_str = '{\"prompt\": \"What is the capital of France?\", \"temperature\": 0.7}'"
   ]
  },
  {
   "cell_type": "code",
   "execution_count": 7,
   "id": "610d3ffa-8816-44ec-bd84-6bcce94660fc",
   "metadata": {},
   "outputs": [],
   "source": [
    "# Convert JSON string to Python dict\n",
    "prompt_config = json.loads(json_str)"
   ]
  },
  {
   "cell_type": "code",
   "execution_count": 8,
   "id": "b10b8d63-c061-4708-81d4-e23e091f2e45",
   "metadata": {},
   "outputs": [
    {
     "name": "stdout",
     "output_type": "stream",
     "text": [
      "Prompt: What is the capital of France?\n",
      "Temperature: 0.7\n"
     ]
    }
   ],
   "source": [
    "# Access values\n",
    "print(\"Prompt:\", prompt_config[\"prompt\"])\n",
    "print(\"Temperature:\", prompt_config[\"temperature\"])"
   ]
  },
  {
   "cell_type": "markdown",
   "id": "3b1ec1d8-d6f3-4b3e-90b2-ac3b4d0a1d54",
   "metadata": {
    "jp-MarkdownHeadingCollapsed": true
   },
   "source": [
    "## Working with YAML"
   ]
  },
  {
   "cell_type": "code",
   "execution_count": 9,
   "id": "4e636c8a-7976-43f8-84d7-b947901d63a6",
   "metadata": {},
   "outputs": [
    {
     "name": "stdout",
     "output_type": "stream",
     "text": [
      "Requirement already satisfied: pyyaml in d:\\softwares\\anaconda\\anaconda-installation\\lib\\site-packages (6.0.1)\n"
     ]
    }
   ],
   "source": [
    "!pip install pyyaml"
   ]
  },
  {
   "cell_type": "code",
   "execution_count": 10,
   "id": "98b29fe2-e372-45d7-98f5-a9b1e90464e1",
   "metadata": {},
   "outputs": [],
   "source": [
    "import yaml"
   ]
  },
  {
   "cell_type": "code",
   "execution_count": 11,
   "id": "4fbb82a0-d945-4f25-a240-8b6a37b6e82c",
   "metadata": {},
   "outputs": [],
   "source": [
    "# Simulated YAML\n",
    "yaml_str = \"\"\"\n",
    "prompt: What is the capital of Germany?\n",
    "temperature: 0.5\n",
    "\"\"\""
   ]
  },
  {
   "cell_type": "code",
   "execution_count": 12,
   "id": "2ec40f41-dbb1-4d4f-a523-b012242057a5",
   "metadata": {},
   "outputs": [],
   "source": [
    "# Convert YAML to Python dict\n",
    "prompt_config = yaml.safe_load(yaml_str)"
   ]
  },
  {
   "cell_type": "code",
   "execution_count": 13,
   "id": "ff8818c2-22df-422d-b167-351b5fb64712",
   "metadata": {},
   "outputs": [
    {
     "name": "stdout",
     "output_type": "stream",
     "text": [
      "Prompt: What is the capital of Germany?\n",
      "Temperature: 0.5\n"
     ]
    }
   ],
   "source": [
    "# Access values\n",
    "print(\"Prompt:\", prompt_config[\"prompt\"])\n",
    "print(\"Temperature:\", prompt_config[\"temperature\"])"
   ]
  },
  {
   "cell_type": "markdown",
   "id": "32c1a5dd-ed01-4bfb-8b4f-2ed4d74334b2",
   "metadata": {},
   "source": [
    "##  Section 1: Python Comments and Print Statements\n",
    "````\n",
    "In this section, we'll learn how to:\n",
    "- Write single-line and multi-line comments in Python.\n",
    "- Use `print()` to output information.\n",
    "- Format strings using `print()` for dynamic messages. ````"
   ]
  },
  {
   "cell_type": "markdown",
   "id": "7879348f-dca6-4161-8d0b-13f4738d694f",
   "metadata": {
    "jp-MarkdownHeadingCollapsed": true
   },
   "source": [
    "## Single-line Comments"
   ]
  },
  {
   "cell_type": "code",
   "execution_count": 14,
   "id": "428a1df7-db6d-41d7-8254-f694269a09fe",
   "metadata": {},
   "outputs": [
    {
     "name": "stdout",
     "output_type": "stream",
     "text": [
      "Hello, world!\n"
     ]
    }
   ],
   "source": [
    "# This is a single-line comment\n",
    "# You can write anything here, and Python will ignore it.\n",
    "\n",
    "print(\"Hello, world!\")  # This is an inline comment"
   ]
  },
  {
   "cell_type": "markdown",
   "id": "2a76b37c-89fc-4110-8e9a-9f3be7ba0ad0",
   "metadata": {
    "jp-MarkdownHeadingCollapsed": true
   },
   "source": [
    "## Multi-line Comments"
   ]
  },
  {
   "cell_type": "code",
   "execution_count": 15,
   "id": "d699372f-27e2-4b3c-9bd4-0e8037e43233",
   "metadata": {},
   "outputs": [
    {
     "name": "stdout",
     "output_type": "stream",
     "text": [
      "Multi-line comments help explain code blocks.\n"
     ]
    }
   ],
   "source": [
    "\"\"\"\n",
    "This is a multi-line comment or docstring.\n",
    "It is typically used to describe what a function, class, or file does.\n",
    "Python ignores these when the code runs.\n",
    "\"\"\"\n",
    "print(\"Multi-line comments help explain code blocks.\")"
   ]
  },
  {
   "cell_type": "markdown",
   "id": "8bc18110-933a-4fd2-b88e-5c78a6918191",
   "metadata": {
    "jp-MarkdownHeadingCollapsed": true
   },
   "source": [
    "## Basic Print Usage"
   ]
  },
  {
   "cell_type": "code",
   "execution_count": 16,
   "id": "202ca51e-7e48-4697-a35e-66832a2163f3",
   "metadata": {},
   "outputs": [
    {
     "name": "stdout",
     "output_type": "stream",
     "text": [
      "Welcome to GenRoute LLM Gateway project!\n",
      "You are now learning Python basics 🚀\n"
     ]
    }
   ],
   "source": [
    "print(\"Welcome to GenRoute LLM Gateway project!\")\n",
    "print(\"You are now learning Python basics 🚀\")\n"
   ]
  },
  {
   "cell_type": "markdown",
   "id": "5c886af7-83a5-4755-b92d-85770137f6fa",
   "metadata": {
    "jp-MarkdownHeadingCollapsed": true
   },
   "source": [
    "## Print with Variables"
   ]
  },
  {
   "cell_type": "code",
   "execution_count": 17,
   "id": "e94c442f-ea37-42a1-b1f0-977ad8c437c3",
   "metadata": {},
   "outputs": [
    {
     "name": "stdout",
     "output_type": "stream",
     "text": [
      "Working on project: GenRoute LLM Gateway\n",
      "Current Sprint: 2\n"
     ]
    }
   ],
   "source": [
    "project_name = \"GenRoute LLM Gateway\"\n",
    "sprint = 2\n",
    "print(\"Working on project:\", project_name)\n",
    "print(\"Current Sprint:\", sprint)\n"
   ]
  },
  {
   "cell_type": "markdown",
   "id": "13bb5696-c28b-485a-af0e-719d3810368e",
   "metadata": {
    "jp-MarkdownHeadingCollapsed": true
   },
   "source": [
    "## Print with f-Strings (Python 3.6+)"
   ]
  },
  {
   "cell_type": "code",
   "execution_count": 18,
   "id": "b10583fb-5d71-473c-9340-b664bd3100c4",
   "metadata": {},
   "outputs": [
    {
     "name": "stdout",
     "output_type": "stream",
     "text": [
      "Hello Sarath, welcome to Sprint 2!\n"
     ]
    }
   ],
   "source": [
    "# f-strings are cleaner and more modern\n",
    "username = \"Sarath\"\n",
    "print(f\"Hello {username}, welcome to Sprint {sprint}!\")\n"
   ]
  },
  {
   "cell_type": "code",
   "execution_count": 19,
   "id": "36be974e-7fd3-4955-ab72-96d7be085101",
   "metadata": {},
   "outputs": [
    {
     "name": "stdout",
     "output_type": "stream",
     "text": [
      "4\n"
     ]
    }
   ],
   "source": [
    "print(2 + 2)\n"
   ]
  },
  {
   "cell_type": "code",
   "execution_count": 24,
   "id": "fdd0982e-f68e-4452-80b7-672af2d30e9f",
   "metadata": {},
   "outputs": [
    {
     "name": "stdout",
     "output_type": "stream",
     "text": [
      " Hello Sarath Chandra,today's date is 19-07-2025\n"
     ]
    }
   ],
   "source": [
    "user_name= \"Sarath Chandra\"\n",
    "current_date=\"19-07-2025\"\n",
    "print(f\" Hello {my_name},today's date is {date}\")"
   ]
  },
  {
   "cell_type": "markdown",
   "id": "806e246b-84fa-47c1-b4dd-513fb9680c94",
   "metadata": {
    "jp-MarkdownHeadingCollapsed": true
   },
   "source": [
    "## Section 2: Variables & Data Types"
   ]
  },
  {
   "cell_type": "code",
   "execution_count": 25,
   "id": "61b4d222-1087-4bbd-9dca-fbc2de2ce751",
   "metadata": {},
   "outputs": [
    {
     "name": "stdout",
     "output_type": "stream",
     "text": [
      "This is an integer: 42\n",
      "This is a list: [1, 2, 3]\n"
     ]
    }
   ],
   "source": [
    "my_integer = 42\n",
    "print(\"This is an integer:\", my_integer)\n",
    "\n",
    "my_list = [1, 2, 3]\n",
    "print(\"This is a list:\", my_list)\n"
   ]
  },
  {
   "cell_type": "code",
   "execution_count": 26,
   "id": "4251946c-f563-4a77-9b29-0c067bd8acda",
   "metadata": {},
   "outputs": [],
   "source": [
    "## dict for agent_details\n",
    "agent_details = { \"name\": \"Sarath Chandra\", \"agentID\": 1, \"status\": \"active\" }\n",
    "prompt_versions = [ 'zero-shot','few-shot', 'chain-of-thought']\n",
    "is_multimodal_enabled = False"
   ]
  },
  {
   "cell_type": "code",
   "execution_count": 27,
   "id": "244e13b4-cedb-4d4d-a724-df2dcf977bef",
   "metadata": {},
   "outputs": [],
   "source": [
    "agent_id = \"1234\"             # Looks like a number but is a string\n",
    "is_multimodal_enabled = False\n",
    "confidence_score = \"0.98\"     # Should be float, not string"
   ]
  },
  {
   "cell_type": "markdown",
   "id": "502f124c-1de9-42cb-9c09-064282c2b060",
   "metadata": {
    "jp-MarkdownHeadingCollapsed": true
   },
   "source": [
    "## type() Function"
   ]
  },
  {
   "cell_type": "code",
   "execution_count": 28,
   "id": "2e772862-c547-4e48-b583-968719a26d1b",
   "metadata": {},
   "outputs": [
    {
     "name": "stdout",
     "output_type": "stream",
     "text": [
      "<class 'str'>\n",
      "<class 'bool'>\n",
      "<class 'str'>\n"
     ]
    }
   ],
   "source": [
    "print(type(agent_id))               # <class 'str'>\n",
    "print(type(is_multimodal_enabled)) # <class 'bool'>\n",
    "print(type(confidence_score))      # <class 'str'>\n"
   ]
  },
  {
   "cell_type": "markdown",
   "id": "a42e1e08-7245-4d9c-9980-05f0dd5a2fbc",
   "metadata": {},
   "source": [
    "##  Type Casting"
   ]
  },
  {
   "cell_type": "code",
   "execution_count": 29,
   "id": "9cf6c882-8b80-4626-9313-596b5639ffdb",
   "metadata": {},
   "outputs": [],
   "source": [
    "agent_id = int(agent_id)                      # Now it's an integer\n",
    "confidence_score = float(confidence_score)    # Now it's a float\n"
   ]
  },
  {
   "cell_type": "markdown",
   "id": "5a5df1f5-6ca9-4817-9c57-1cc963e7b682",
   "metadata": {
    "jp-MarkdownHeadingCollapsed": true
   },
   "source": [
    "## Use Defensive Type Casting with try/except"
   ]
  },
  {
   "cell_type": "code",
   "execution_count": 31,
   "id": "5c5e58d5-9ccc-4f78-a287-2f6504611c74",
   "metadata": {},
   "outputs": [],
   "source": [
    "try:\n",
    "    agent_id = int(agent_id)\n",
    "    confidence_score = float(confidence_score)\n",
    "except ValueError as e:\n",
    "    print(f\"Type casting error: {e}\")"
   ]
  },
  {
   "cell_type": "code",
   "execution_count": 33,
   "id": "3038b28a-34dc-4e77-ba3f-af38e6180989",
   "metadata": {},
   "outputs": [
    {
     "name": "stdout",
     "output_type": "stream",
     "text": [
      "✅ Successfully converted '1234' to integer: 1234\n",
      "⚠️ Could NOT convert 'abc' to int. Reason: invalid literal for int() with base 10: 'abc'\n",
      "⚠️ Could NOT convert '12.5' to int. Reason: invalid literal for int() with base 10: '12.5'\n",
      "⚠️ Could NOT convert '' to int. Reason: invalid literal for int() with base 10: ''\n",
      "❌ Invalid Type for 'None'. Reason: int() argument must be a string, a bytes-like object or a real number, not 'NoneType'\n"
     ]
    }
   ],
   "source": [
    "## Sample example\n",
    "test_values = [\"1234\", \"abc\", \"12.5\", \"\", None]\n",
    "\n",
    "for val in test_values:\n",
    "    try:\n",
    "        num = int(val)\n",
    "        print(f\"✅ Successfully converted '{val}' to integer: {num}\")\n",
    "    except ValueError as e:\n",
    "        print(f\"⚠️ Could NOT convert '{val}' to int. Reason: {e}\")\n",
    "    except TypeError as e:\n",
    "        print(f\"❌ Invalid Type for '{val}'. Reason: {e}\")"
   ]
  },
  {
   "cell_type": "code",
   "execution_count": 36,
   "id": "39076c54-e4d1-467f-93e7-efbbdd0461b8",
   "metadata": {},
   "outputs": [],
   "source": [
    "## Audit Log Idea (Optional Bonus)\n",
    "import datetime\n",
    "def audit_log(message):\n",
    "    with open(\"audit_log.txt\", \"a\") as log:\n",
    "        log.write(f\"{datetime.datetime.now()} - {message}\\n\")\n",
    "try:\n",
    "    agent_id = int(agent_id)\n",
    "    audit_log(\"agent_id successfully cast to int\")\n",
    "except ValueError:\n",
    "    audit_log(\"Failed to cast agent_id to int\")\n"
   ]
  },
  {
   "cell_type": "code",
   "execution_count": 38,
   "id": "0ca41628-2132-40a2-9466-e9a469cb8ae5",
   "metadata": {},
   "outputs": [],
   "source": [
    "prompt = f\"You are agent #{agent_id}. Confidence: {confidence_score}\""
   ]
  },
  {
   "cell_type": "code",
   "execution_count": 39,
   "id": "78b8bed8-6870-4de6-83fb-67057be485a9",
   "metadata": {},
   "outputs": [
    {
     "name": "stdout",
     "output_type": "stream",
     "text": [
      "⚠️ Invalid Agent ID. Please provide a numeric value.\n"
     ]
    }
   ],
   "source": [
    "## Challenge\n",
    "# User input simulation\n",
    "user_input_id = \"abc123\"  # not a number\n",
    "try:\n",
    "    cast_id = int(user_input_id)\n",
    "    print(f\"Agent ID: {cast_id}\")\n",
    "except ValueError:\n",
    "    print(\"⚠️ Invalid Agent ID. Please provide a numeric value.\")\n"
   ]
  },
  {
   "cell_type": "code",
   "execution_count": 42,
   "id": "485d08d7-df00-4df6-a278-104469984a0d",
   "metadata": {},
   "outputs": [
    {
     "data": {
      "text/plain": [
       "str"
      ]
     },
     "execution_count": 42,
     "metadata": {},
     "output_type": "execute_result"
    }
   ],
   "source": [
    "type(\"1234\")\n"
   ]
  },
  {
   "cell_type": "code",
   "execution_count": 41,
   "id": "613f8ad6-56fa-48cb-b313-caf9d5386778",
   "metadata": {},
   "outputs": [
    {
     "ename": "ValueError",
     "evalue": "invalid literal for int() with base 10: '12.5'",
     "output_type": "error",
     "traceback": [
      "\u001b[1;31m---------------------------------------------------------------------------\u001b[0m",
      "\u001b[1;31mValueError\u001b[0m                                Traceback (most recent call last)",
      "Cell \u001b[1;32mIn[41], line 1\u001b[0m\n\u001b[1;32m----> 1\u001b[0m \u001b[38;5;28mint\u001b[39m(\u001b[38;5;124m\"\u001b[39m\u001b[38;5;124m12.5\u001b[39m\u001b[38;5;124m\"\u001b[39m)\n",
      "\u001b[1;31mValueError\u001b[0m: invalid literal for int() with base 10: '12.5'"
     ]
    }
   ],
   "source": [
    "int(\"12.5\")"
   ]
  },
  {
   "cell_type": "code",
   "execution_count": 45,
   "id": "87807add-33f3-4e51-b627-8b050fb3a6f1",
   "metadata": {},
   "outputs": [
    {
     "name": "stdout",
     "output_type": "stream",
     "text": [
      "<class 'int'>\n",
      "<class 'str'>\n",
      "<class 'float'>\n",
      "<class 'bool'>\n",
      "<class 'list'>\n",
      "<class 'dict'>\n",
      "<class 'NoneType'>\n"
     ]
    }
   ],
   "source": [
    "## Type check\n",
    "print(type(1234))\t\n",
    "print(type(\"1234\"))\n",
    "print(type(12.34))\t\n",
    "print(type(True))\n",
    "print(type([1, 2, 3]))\n",
    "print(type({\"a\": 1}))\n",
    "print(type(None))"
   ]
  },
  {
   "cell_type": "code",
   "execution_count": 46,
   "id": "b8882b98-90b8-4f01-824a-937e0922c259",
   "metadata": {},
   "outputs": [
    {
     "ename": "ValueError",
     "evalue": "invalid literal for int() with base 10: '12.5'",
     "output_type": "error",
     "traceback": [
      "\u001b[1;31m---------------------------------------------------------------------------\u001b[0m",
      "\u001b[1;31mValueError\u001b[0m                                Traceback (most recent call last)",
      "Cell \u001b[1;32mIn[46], line 2\u001b[0m\n\u001b[0;32m      1\u001b[0m a\u001b[38;5;241m=\u001b[39m\u001b[38;5;124m\"\u001b[39m\u001b[38;5;124m12.5\u001b[39m\u001b[38;5;124m\"\u001b[39m\n\u001b[1;32m----> 2\u001b[0m \u001b[38;5;28mprint\u001b[39m(\u001b[38;5;28mint\u001b[39m(a))\n",
      "\u001b[1;31mValueError\u001b[0m: invalid literal for int() with base 10: '12.5'"
     ]
    }
   ],
   "source": [
    "a=\"12.5\"\n",
    "print(int(a))"
   ]
  },
  {
   "cell_type": "code",
   "execution_count": 48,
   "id": "0201d922-bc12-4141-8695-e21049631939",
   "metadata": {},
   "outputs": [
    {
     "ename": "ValueError",
     "evalue": "invalid literal for int() with base 10: '12.5'",
     "output_type": "error",
     "traceback": [
      "\u001b[1;31m---------------------------------------------------------------------------\u001b[0m",
      "\u001b[1;31mValueError\u001b[0m                                Traceback (most recent call last)",
      "Cell \u001b[1;32mIn[48], line 1\u001b[0m\n\u001b[1;32m----> 1\u001b[0m \u001b[38;5;28mint\u001b[39m(a)\u001b[38;5;241m==\u001b[39m\u001b[38;5;124m\"\u001b[39m\u001b[38;5;124m12.5\u001b[39m\u001b[38;5;124m\"\u001b[39m\n\u001b[0;32m      2\u001b[0m \u001b[38;5;28mprint\u001b[39m(\u001b[38;5;28mint\u001b[39m(a))\n",
      "\u001b[1;31mValueError\u001b[0m: invalid literal for int() with base 10: '12.5'"
     ]
    }
   ],
   "source": [
    "int(a)==\"12.5\"\n",
    "print(int(a))"
   ]
  },
  {
   "cell_type": "code",
   "execution_count": 49,
   "id": "7cf21553-61de-4983-b64c-d929b235b4d7",
   "metadata": {},
   "outputs": [
    {
     "ename": "SyntaxError",
     "evalue": "cannot assign to function call here. Maybe you meant '==' instead of '='? (347650876.py, line 1)",
     "output_type": "error",
     "traceback": [
      "\u001b[1;36m  Cell \u001b[1;32mIn[49], line 1\u001b[1;36m\u001b[0m\n\u001b[1;33m    int(a)=\"12.5\"\u001b[0m\n\u001b[1;37m    ^\u001b[0m\n\u001b[1;31mSyntaxError\u001b[0m\u001b[1;31m:\u001b[0m cannot assign to function call here. Maybe you meant '==' instead of '='?\n"
     ]
    }
   ],
   "source": [
    "int(a)=\"12.5\"\n",
    "print(int(a))"
   ]
  },
  {
   "cell_type": "code",
   "execution_count": 52,
   "id": "55796744-6bb3-458b-8e4e-971bb8c8329e",
   "metadata": {},
   "outputs": [
    {
     "name": "stdout",
     "output_type": "stream",
     "text": [
      "⚠️ Cannot cast '12.5' to int. Trying float instead...\n",
      "Casted to float: 12.5\n",
      "Casted to int: 12\n"
     ]
    }
   ],
   "source": [
    "## Correct Defensive Casting Pattern:\n",
    "a = \"12.5\"\n",
    "try:\n",
    "    result = int(a)\n",
    "    print(f\"Casted successfully: {result}\")\n",
    "except ValueError:\n",
    "    print(\"⚠️ Cannot cast '12.5' to int. Trying float instead...\")\n",
    "    result = float(a)\n",
    "    print(f\"Casted to float: {result}\")\n",
    "    result =int(float(a))\n",
    "    print(f\"Casted to int: {result}\")"
   ]
  },
  {
   "cell_type": "code",
   "execution_count": 53,
   "id": "5a252e62-7a25-4c16-a4f2-649e91a1a9be",
   "metadata": {},
   "outputs": [
    {
     "name": "stdout",
     "output_type": "stream",
     "text": [
      "123 ➜ 123 (<class 'int'>)\n",
      "12.5 ➜ 12.5 (<class 'float'>)\n",
      "[1, 2, 3] ➜ [1, 2, 3] (<class 'list'>)\n",
      "{'name': 'agent'} ➜ {'name': 'agent'} (<class 'dict'>)\n",
      "True ➜ True (<class 'bool'>)\n",
      "'AgentX' ➜ AgentX (<class 'str'>)\n"
     ]
    }
   ],
   "source": [
    "test_inputs = [\n",
    "    \"123\", \"12.5\", \"[1, 2, 3]\", \"{'name': 'agent'}\", \"True\", \"'AgentX'\"\n",
    "]\n",
    "\n",
    "for inp in test_inputs:\n",
    "    try:\n",
    "        print(f\"{inp} ➜ {eval(inp)} ({type(eval(inp))})\")\n",
    "    except Exception as e:\n",
    "        print(f\"Failed to eval: {inp} ➜ {e}\")\n"
   ]
  },
  {
   "cell_type": "markdown",
   "id": "9bc408a7-9962-482d-bd66-30cb62787d4a",
   "metadata": {
    "jp-MarkdownHeadingCollapsed": true
   },
   "source": [
    "## Operators & Expressions"
   ]
  },
  {
   "cell_type": "code",
   "execution_count": 56,
   "id": "82e0a6ee-adeb-4b43-b244-21f88017792c",
   "metadata": {},
   "outputs": [
    {
     "name": "stdout",
     "output_type": "stream",
     "text": [
      "\n",
      "| Operator Type      | Key Symbols                         | Use Case                      |                                             |\n",
      "| ------------------ | ----------------------------------- | ----------------------------- | ------------------------------------------- |\n",
      "| Arithmetic         | `+`, `-`, `*`, `/`, `//`, `%`, `**` | math, scoring                 |                                             |\n",
      "| Comparison         | `==`, `!=`, `>`, `<`, `>=`, `<=`    | branching, filters            |                                             |\n",
      "| Logical            | `and`, `or`, `not`                  | feature toggles, status check |                                             |\n",
      "| Assignment         | `=`, `+=`, `-=`, `*=`, `/=`, etc.   | counters, config overrides    |                                             |\n",
      "| Membership         | `in`, `not in`                      | check if mode is supported    |                                             |\n",
      "| Identity           | `is`, `is not`                      | validate `None`, object ID    |                                             |\n",
      "| Bitwise (Advanced) | `&`, \\`                             | `, `^`, `<<`, `>>\\`           | low-level performance flags (covered later) |\n",
      "\n",
      "\n"
     ]
    },
    {
     "name": "stderr",
     "output_type": "stream",
     "text": [
      "<>:1: SyntaxWarning: invalid escape sequence '\\`'\n",
      "<>:1: SyntaxWarning: invalid escape sequence '\\`'\n",
      "C:\\Users\\Sarath\\AppData\\Local\\Temp\\ipykernel_17816\\4226080332.py:1: SyntaxWarning: invalid escape sequence '\\`'\n",
      "  print('''\n"
     ]
    }
   ],
   "source": [
    "print('''\n",
    "| Operator Type      | Key Symbols                         | Use Case                      |                                             |\n",
    "| ------------------ | ----------------------------------- | ----------------------------- | ------------------------------------------- |\n",
    "| Arithmetic         | `+`, `-`, `*`, `/`, `//`, `%`, `**` | math, scoring                 |                                             |\n",
    "| Comparison         | `==`, `!=`, `>`, `<`, `>=`, `<=`    | branching, filters            |                                             |\n",
    "| Logical            | `and`, `or`, `not`                  | feature toggles, status check |                                             |\n",
    "| Assignment         | `=`, `+=`, `-=`, `*=`, `/=`, etc.   | counters, config overrides    |                                             |\n",
    "| Membership         | `in`, `not in`                      | check if mode is supported    |                                             |\n",
    "| Identity           | `is`, `is not`                      | validate `None`, object ID    |                                             |\n",
    "| Bitwise (Advanced) | `&`, \\`                             | `, `^`, `<<`, `>>\\`           | low-level performance flags (covered later) |\n",
    "''')"
   ]
  },
  {
   "cell_type": "code",
   "execution_count": 54,
   "id": "15f4997f-a9f4-4e6d-8d3f-f891ef9cfd6f",
   "metadata": {},
   "outputs": [
    {
     "name": "stdout",
     "output_type": "stream",
     "text": [
      "Remaining tokens: 7655\n",
      "Can serve request? True\n",
      "Route to vision model? False\n",
      "✅ CoT prompting supported\n",
      "⚠️ No new agent initialized\n"
     ]
    }
   ],
   "source": [
    "# Arithmetic: calculate agent prompt budget\n",
    "token_quota = 10000\n",
    "tokens_used = 2345\n",
    "tokens_remaining = token_quota - tokens_used\n",
    "print(f\"Remaining tokens: {tokens_remaining}\")\n",
    "\n",
    "# Comparison: is the agent active and has quota?\n",
    "is_active = agent_details[\"status\"] == \"active\"\n",
    "has_quota = tokens_remaining > 1000\n",
    "print(f\"Can serve request? {is_active and has_quota}\")\n",
    "\n",
    "# Logical: multimodal mode validation\n",
    "is_multimodal_enabled = False\n",
    "wants_image = True\n",
    "can_handle_image = is_multimodal_enabled and wants_image\n",
    "print(f\"Route to vision model? {can_handle_image}\")\n",
    "\n",
    "# Membership: is CoT supported?\n",
    "if \"chain-of-thought\" in prompt_versions:\n",
    "    print(\"✅ CoT prompting supported\")\n",
    "\n",
    "# Identity: was a new agent loaded?\n",
    "new_agent = None\n",
    "if new_agent is None:\n",
    "    print(\"⚠️ No new agent initialized\")"
   ]
  },
  {
   "cell_type": "code",
   "execution_count": 59,
   "id": "7f155787-af84-47aa-80c7-cc3b237272c2",
   "metadata": {},
   "outputs": [],
   "source": [
    "## Challenge: Agent Policy Check\n",
    "agent_details = {\n",
    "    \"agentID\": 7,\n",
    "    \"status\": \"inactive\",\n",
    "    \"name\": \"PromptMaster\"\n",
    "}\n",
    "prompt_versions = [\"zero-shot\", \"few-shot\"]\n",
    "is_multimodal_enabled = True"
   ]
  },
  {
   "cell_type": "code",
   "execution_count": 64,
   "id": "333d68f4-c85f-4d7b-819e-13177e4def57",
   "metadata": {},
   "outputs": [
    {
     "name": "stderr",
     "output_type": "stream",
     "text": [
      "<>:1: SyntaxWarning: \"is not\" with 'str' literal. Did you mean \"!=\"?\n",
      "<>:1: SyntaxWarning: \"is not\" with 'str' literal. Did you mean \"!=\"?\n",
      "C:\\Users\\Sarath\\AppData\\Local\\Temp\\ipykernel_17816\\1035485351.py:1: SyntaxWarning: \"is not\" with 'str' literal. Did you mean \"!=\"?\n",
      "  agent_details[\"name\"] == \"PromptMaster\" and agent_details[\"status\"]==\"active\" and \"chain-of-thought\" is not prompt_versions and is_multimodal_enabled != False\n"
     ]
    },
    {
     "data": {
      "text/plain": [
       "False"
      ]
     },
     "execution_count": 64,
     "metadata": {},
     "output_type": "execute_result"
    }
   ],
   "source": [
    "agent_details[\"name\"] == \"PromptMaster\" and agent_details[\"status\"]==\"active\" and \"chain-of-thought\" is not prompt_versions and is_multimodal_enabled != False"
   ]
  },
  {
   "cell_type": "code",
   "execution_count": 65,
   "id": "ce04f39b-87f8-4f44-a05a-af82b0855615",
   "metadata": {},
   "outputs": [
    {
     "data": {
      "text/plain": [
       "True"
      ]
     },
     "execution_count": 65,
     "metadata": {},
     "output_type": "execute_result"
    }
   ],
   "source": [
    "agent_details[\"name\"] == \"PromptMaster\" and agent_details[\"status\"] != \"active\" and \"chain-of-thought\" not in prompt_versions and is_multimodal_enabled\n"
   ]
  },
  {
   "cell_type": "code",
   "execution_count": 66,
   "id": "0214cd4c-3414-4d53-bce8-394230423e34",
   "metadata": {},
   "outputs": [
    {
     "name": "stdout",
     "output_type": "stream",
     "text": [
      "True\n"
     ]
    }
   ],
   "source": [
    "##  Agent Policy Check  answer\n",
    "agent_details = {\n",
    "    \"agentID\": 7,\n",
    "    \"status\": \"inactive\",\n",
    "    \"name\": \"PromptMaster\"\n",
    "}\n",
    "prompt_versions = [\"zero-shot\", \"few-shot\"]\n",
    "is_multimodal_enabled = True\n",
    "\n",
    "result = agent_details[\"name\"] == \"PromptMaster\" and agent_details[\"status\"] != \"active\" and \"chain-of-thought\" not in prompt_versions and is_multimodal_enabled\n",
    "print(result)  # Expected: True\n"
   ]
  },
  {
   "cell_type": "markdown",
   "id": "3a55d3b1-3f6a-47d1-8e66-c0771dffe892",
   "metadata": {},
   "source": [
    "##  Challenge: Validate Agent & Prompt Configuration"
   ]
  },
  {
   "cell_type": "code",
   "execution_count": 67,
   "id": "d640dec7-db4c-424b-b64e-771977232c8b",
   "metadata": {},
   "outputs": [],
   "source": [
    "agent_details = {\n",
    "    \"agentID\": \"42\",       # intentionally a string\n",
    "    \"status\": \"active\",\n",
    "    \"name\": \"PromptPilot\"\n",
    "}\n",
    "prompt_versions = [\"few-shot\", \"zero-shot\", \"cot\"]\n",
    "is_multimodal_enabled = \"False\"  # intentionally a string, not boolean"
   ]
  },
  {
   "cell_type": "code",
   "execution_count": 70,
   "id": "3935a78d-476d-49da-9882-3a90216e9d9c",
   "metadata": {},
   "outputs": [
    {
     "name": "stdout",
     "output_type": "stream",
     "text": [
      "    Write code to validate that:\n",
      " 1: The agentID is an integer greater than 0 (perform safe casting).\n",
      " 2: The status is \"active\" and name starts with \"Prompt\".\n",
      " 3: \"chain-of-thought\" is NOT in prompt_versions.\n",
      " 4: is_multimodal_enabled must be cast to boolean and must be False. \n"
     ]
    }
   ],
   "source": [
    "print( '''    Write code to validate that:\n",
    " 1: The agentID is an integer greater than 0 (perform safe casting).\n",
    " 2: The status is \"active\" and name starts with \"Prompt\".\n",
    " 3: \"chain-of-thought\" is NOT in prompt_versions.\n",
    " 4: is_multimodal_enabled must be cast to boolean and must be False. ''')"
   ]
  },
  {
   "cell_type": "code",
   "execution_count": 74,
   "id": "729897c3-73b8-46e9-83f9-7fb6b966e323",
   "metadata": {},
   "outputs": [
    {
     "ename": "SyntaxError",
     "evalue": "invalid syntax (4052451322.py, line 3)",
     "output_type": "error",
     "traceback": [
      "\u001b[1;36m  Cell \u001b[1;32mIn[74], line 3\u001b[1;36m\u001b[0m\n\u001b[1;33m    if key==\"agentID\" and not (int(value) > 0) and agent_details[\"status\"]==\"active\" and agent_details[\"name\"].startswith(\"Prompt\") and \"chain-of-thought\" not in prompt_versions and assert not bool(is_multimodal_enabled):\u001b[0m\n\u001b[1;37m                                                                                                                                                                                      ^\u001b[0m\n\u001b[1;31mSyntaxError\u001b[0m\u001b[1;31m:\u001b[0m invalid syntax\n"
     ]
    }
   ],
   "source": [
    "''''result == Configuration Valid\n",
    "        if key==\"agentID\" and not (int(value) > 0) and agent_details[\"status\"]==\"active\" and agent_details[\"name\"].startswith(\"Prompt\") and \"chain-of-thought\" not in prompt_versions and assert not bool(is_multimodal_enabled):\n",
    "            print(\"Configuration Valid\")    \n",
    "    except Exception as e:\n",
    "         print(\"Configuration Invalid\")  '''''\n",
    "    \n",
    "          \n",
    "            \n",
    "        \n"
   ]
  },
  {
   "cell_type": "code",
   "execution_count": null,
   "id": "de4961ce-65d6-48cf-ae26-df51415076f7",
   "metadata": {},
   "outputs": [],
   "source": [
    "for key, value in agent_details.items():\n",
    "    try:\n",
    "        if (key == \"agentID\" and\n",
    "            int(value) > 0 and\n",
    "            agent_details.get(\"status\") == \"active\" and\n",
    "            agent_details.get(\"name\", \"\").startswith(\"Prompt\") and\n",
    "            \"chain-of-thought\" not in prompt_versions and\n",
    "            not bool(agent_details.get(\"is_multimodal_enabled\"))):\n",
    "            print(f\"{key}: Configuration Valid\")\n",
    "        elif key == \"agentID\":\n",
    "            print(f\"{key}: Configuration Invalid\")\n",
    "    except (ValueError, KeyError, TypeError) as e:\n",
    "        print(f\"{key}: Validation failed - {e}\")   \n",
    "    \n"
   ]
  },
  {
   "cell_type": "markdown",
   "id": "4cbfee81-0e3e-4b4e-aa68-47885df8e505",
   "metadata": {},
   "source": [
    "# Control Flow — if, elif, else"
   ]
  },
  {
   "cell_type": "code",
   "execution_count": 76,
   "id": "c8850b1d-643e-4976-8cc1-1f61877279e6",
   "metadata": {},
   "outputs": [
    {
     "name": "stdout",
     "output_type": "stream",
     "text": [
      "❌ Invalid agent name\n"
     ]
    }
   ],
   "source": [
    "agent_name = \"GenAI\"\n",
    "if agent_name.startswith(\"prompt\"):\n",
    "    print (\"✅ Valid agent name\")\n",
    "else:\n",
    "    print(\"❌ Invalid agent name\")"
   ]
  },
  {
   "cell_type": "code",
   "execution_count": 77,
   "id": "351e891f-a26e-439e-b301-eaa453039609",
   "metadata": {},
   "outputs": [
    {
     "data": {
      "text/plain": [
       "True"
      ]
     },
     "execution_count": 77,
     "metadata": {},
     "output_type": "execute_result"
    }
   ],
   "source": [
    "### additional solutions\n",
    "\"GenAI\".startswith(\"prompt\")  # ❌ False\n",
    "\"PromptMaster\".startswith(\"Prompt\")  # ✅ True"
   ]
  },
  {
   "cell_type": "code",
   "execution_count": 78,
   "id": "b2e2b5cc-a879-4dd8-85d4-c76a8aad2ba2",
   "metadata": {},
   "outputs": [
    {
     "name": "stdout",
     "output_type": "stream",
     "text": [
      "❌ Invalid agent name\n"
     ]
    }
   ],
   "source": [
    "agent_name = \"GenAI\"\n",
    "if agent_name.startswith(\"prompt\"):\n",
    "    print (\"✅ Valid agent name\")\n",
    "else:\n",
    "    print(\"❌ Invalid agent name\")"
   ]
  },
  {
   "cell_type": "code",
   "execution_count": 79,
   "id": "7acfeb50-6d90-4886-a4fc-a920fb378903",
   "metadata": {},
   "outputs": [
    {
     "name": "stdout",
     "output_type": "stream",
     "text": [
      "❌ Invalid agent name\n"
     ]
    }
   ],
   "source": [
    "if agent_name.lower().startswith(\"prompt\"):\n",
    "    print(\"✅ Valid agent name\")\n",
    "else:\n",
    "    print(\"❌ Invalid agent name\")"
   ]
  },
  {
   "cell_type": "markdown",
   "id": "3fc5cf0d-a1a3-4768-b732-c6344acc16b1",
   "metadata": {},
   "source": [
    "# Ethical Nested Condition (AI Prompting Context)"
   ]
  },
  {
   "cell_type": "code",
   "execution_count": 80,
   "id": "55d36cd8-f7c5-433b-bae5-5422b6304e6e",
   "metadata": {},
   "outputs": [
    {
     "name": "stdout",
     "output_type": "stream",
     "text": [
      "✅ CoT prompting allowed for admin.\n"
     ]
    }
   ],
   "source": [
    "agent_status = \"active\"\n",
    "prompt_mode = \"chain-of-thought\"\n",
    "user_role = \"admin\"\n",
    "\n",
    "if agent_status == \"active\":\n",
    "    if prompt_mode == \"chain-of-thought\":\n",
    "        if user_role == \"admin\":\n",
    "            print(\"✅ CoT prompting allowed for admin.\")\n",
    "        else:\n",
    "            print(\"⚠️ CoT prompting restricted for non-admin users.\")\n",
    "    else:\n",
    "        print(\"✅ Safe prompting mode.\")\n",
    "else:\n",
    "    print(\"❌ Agent is inactive. Prompting disabled.\")\n"
   ]
  },
  {
   "cell_type": "code",
   "execution_count": 81,
   "id": "60df3b45-f369-4b04-b9c0-6c2464aeba76",
   "metadata": {},
   "outputs": [
    {
     "name": "stdout",
     "output_type": "stream",
     "text": [
      "✅ Agent dispatched with strict security.\n"
     ]
    }
   ],
   "source": [
    "agent_status = \"active\"\n",
    "response_time_ms = 180\n",
    "security_mode = \"strict\"\n",
    "\n",
    "if agent_status == \"active\":\n",
    "    if response_time_ms < 200:\n",
    "        if security_mode == \"strict\":\n",
    "            print(\"✅ Agent dispatched with strict security.\")\n",
    "        else:\n",
    "            print(\"⚠️ Agent dispatched but without strict security.\")\n",
    "    else:\n",
    "        print(\"⏱️ Response too slow. Retry or alert.\")\n",
    "else:\n",
    "    print(\"❌ Cannot dispatch inactive agent.\")\n"
   ]
  },
  {
   "cell_type": "code",
   "execution_count": 88,
   "id": "2c2c8027-3ea6-4cd8-be1a-dbca005d7c82",
   "metadata": {},
   "outputs": [],
   "source": [
    "agent_status == \"active\"\n",
    "prompt_versions = [\"few-shot\", \"zero-shot\", \"cot\"]\n",
    "is_multimodal_enabled = \"False\"  # string type\n"
   ]
  },
  {
   "cell_type": "code",
   "execution_count": 92,
   "id": "d1ab9503-9785-49d1-831e-64d0b135b68f",
   "metadata": {},
   "outputs": [
    {
     "name": "stdout",
     "output_type": "stream",
     "text": [
      "❌ Agent inactive\n"
     ]
    }
   ],
   "source": [
    "if agent_status == \"active\":   \n",
    "        if \"few-shot\" in prompt_versions:\n",
    "            if is_multimodal_enabled == True:\n",
    "                print(\"✅ Agent is ready with multimodal few-shot setup\")\n",
    "            else:\n",
    "                print( \"❌ Agent inactive\" or \"❌ few-shot prompting not available\")\n",
    "else:\n",
    "    print(\"Control check...concluded\")"
   ]
  },
  {
   "cell_type": "code",
   "execution_count": 93,
   "id": "766898b9-7e06-468d-85e2-05a5e48bebfb",
   "metadata": {},
   "outputs": [],
   "source": [
    "agent_status == \"active\"\n",
    "prompt_versions = [\"few-shot\", \"zero-shot\", \"cot\"]\n",
    "is_multimodal_enabled = True  # string type\n"
   ]
  },
  {
   "cell_type": "code",
   "execution_count": 94,
   "id": "036e3ad9-5ba7-47a1-a564-2ce1519aa307",
   "metadata": {},
   "outputs": [
    {
     "name": "stdout",
     "output_type": "stream",
     "text": [
      "✅ Agent is ready with multimodal few-shot setup\n"
     ]
    }
   ],
   "source": [
    "if agent_status == \"active\":   \n",
    "        if \"few-shot\" in prompt_versions:\n",
    "            if is_multimodal_enabled == True:\n",
    "                print(\"✅ Agent is ready with multimodal few-shot setup\")\n",
    "            else:\n",
    "                print( \"❌ Agent inactive\" or \"❌ few-shot prompting not available\")\n",
    "else:\n",
    "    print(\"Control check...concluded\")"
   ]
  },
  {
   "cell_type": "code",
   "execution_count": 96,
   "id": "875889bb-972a-4a2e-9d20-20b4e008e1ea",
   "metadata": {},
   "outputs": [
    {
     "name": "stdout",
     "output_type": "stream",
     "text": [
      "✅ Agent is ready with multimodal few-shot setup\n"
     ]
    }
   ],
   "source": [
    "## Revised answer to the challenge\n",
    "\n",
    "if agent_status == \"active\":\n",
    "    if \"few-shot\" in prompt_versions:\n",
    "        if is_multimodal_enabled:\n",
    "            print(\"✅ Agent is ready with multimodal few-shot setup\")\n",
    "        else:\n",
    "            print(\"⚠️ Few-shot prompting available but multimodal is disabled\")\n",
    "    else:\n",
    "        print(\"⚠️ Agent active, but few-shot prompting not enabled\")\n",
    "else:\n",
    "    print(\"❌ Agent is inactive. Control check...concluded\")\n"
   ]
  },
  {
   "cell_type": "code",
   "execution_count": null,
   "id": "3de0c3e6-4893-44db-95e8-da259c2b3acf",
   "metadata": {},
   "outputs": [],
   "source": []
  },
  {
   "cell_type": "code",
   "execution_count": null,
   "id": "ea0f6ce2-86b5-4940-bd4c-6764e8d06190",
   "metadata": {},
   "outputs": [],
   "source": []
  }
 ],
 "metadata": {
  "kernelspec": {
   "display_name": "Python 3 (ipykernel)",
   "language": "python",
   "name": "python3"
  },
  "language_info": {
   "codemirror_mode": {
    "name": "ipython",
    "version": 3
   },
   "file_extension": ".py",
   "mimetype": "text/x-python",
   "name": "python",
   "nbconvert_exporter": "python",
   "pygments_lexer": "ipython3",
   "version": "3.12.7"
  }
 },
 "nbformat": 4,
 "nbformat_minor": 5
}
